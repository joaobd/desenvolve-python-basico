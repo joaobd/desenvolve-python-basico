{
 "cells": [
  {
   "cell_type": "markdown",
   "id": "0d5035b5",
   "metadata": {},
   "source": [
    "# Set\n",
    "\n",
    "## Aula 8.1"
   ]
  },
  {
   "cell_type": "markdown",
   "id": "0bdece85",
   "metadata": {},
   "source": [
    "### Q1. \n",
    "\n",
    "Dada uma string qualquer, use seu conhecimento de sets para apresentar os caracteres únicos que aparecem na string, ordenados alfabeticamente e sem duplicatas. Preste atenção em duplicatas de maiúsculas e minúsculas.\n"
   ]
  },
  {
   "cell_type": "code",
   "execution_count": 1,
   "id": "0a258eba",
   "metadata": {},
   "outputs": [
    {
     "name": "stdout",
     "output_type": "stream",
     "text": [
      "['a', 'b', 'd', 'e', 'n', 'o', 'p', 'r', 's', 't', 'u']\n"
     ]
    }
   ],
   "source": [
    "frase = \"O rato roeu a roupa do Robson\"\n",
    "\n",
    "## Implemente aqui sua solução\n",
    "def caracteres_unicos(string):\n",
    "    # Converte a string para minúsculas e cria um set com os caracteres únicos\n",
    "    caracteres_unicos = set(string.lower())\n",
    "    # Remove espaços em branco do set\n",
    "    caracteres_unicos.discard(' ')\n",
    "    # Ordena os caracteres alfabeticamente\n",
    "    caracteres_ordenados = sorted(caracteres_unicos)\n",
    "    return caracteres_ordenados\n",
    "\n",
    "# Exemplo de uso\n",
    "resultado = caracteres_unicos(frase)\n",
    "print(resultado)\n"
   ]
  },
  {
   "cell_type": "markdown",
   "id": "0856bd56",
   "metadata": {},
   "source": [
    "### Q2\n",
    "\n",
    "Desenvolva uma função em Python chamada ```tem_elementos_comuns()``` que recebe duas listas como parâmetros e retorna True se houver algum elemento comum entre as duas listas, e False caso contrário. Utilize sets para resolver essa tarefa."
   ]
  },
  {
   "cell_type": "code",
   "execution_count": 2,
   "id": "f7ab6736",
   "metadata": {},
   "outputs": [],
   "source": [
    "# Implemente aqui a função tem_elementos_comuns()\n",
    "def tem_elementos_comuns(lista1, lista2):\n",
    "    # Converte as listas em sets\n",
    "    set1 = set(lista1)\n",
    "    set2 = set(lista2)\n",
    "    \n",
    "    # Verifica se há interseção entre os sets\n",
    "    return not set1.isdisjoint(set2)"
   ]
  },
  {
   "cell_type": "code",
   "execution_count": 3,
   "id": "1022744a",
   "metadata": {},
   "outputs": [
    {
     "name": "stdout",
     "output_type": "stream",
     "text": [
      "True\n"
     ]
    }
   ],
   "source": [
    "# Execute esta célula para testar a função da Q2.\n",
    "\n",
    "lista1 = [1, 2, 3, 4]\n",
    "lista2 = [3, 4, 5, 6, 7]\n",
    "resultado = tem_elementos_comuns(lista1, lista2)\n",
    "print(resultado)  # Saída esperada: True"
   ]
  },
  {
   "cell_type": "markdown",
   "id": "649a5082",
   "metadata": {},
   "source": [
    "### Q3. \n",
    "\n",
    "Você vai coletar de diferentes turmas de alunos seus interesses em atividades extra curriculares dentre futebol, vôlei, rugby, música, teatro, ações comunitárias. Informe o conjunto de atividades comuns a todas a turmas. Pode preencher o iterável turmas com valores arbitrários. \n"
   ]
  },
  {
   "cell_type": "code",
   "execution_count": 4,
   "id": "880a9927",
   "metadata": {},
   "outputs": [
    {
     "name": "stdout",
     "output_type": "stream",
     "text": [
      "{'rugby'}\n"
     ]
    }
   ],
   "source": [
    "turmas = [\n",
    "     {'ações comunitárias', 'futebol', 'música', 'rugby'},\n",
    "     {'ações comunitárias', 'música', 'rugby', 'teatro'},\n",
    "     {'música', 'rugby', 'teatro', 'vôlei'},\n",
    "     {'música', 'vôlei', 'rugby'},\n",
    "     {'ações comunitárias', 'futebol', 'rugby', 'teatro', 'vôlei'},\n",
    "     {'ações comunitárias', 'futebol', 'rugby'},\n",
    "     {'ações comunitárias', 'rugby', 'teatro', 'vôlei'},\n",
    "     {'ações comunitárias', 'rugby', 'teatro', 'vôlei'},\n",
    "     {'ações comunitárias', 'rugby', 'vôlei'}\n",
    "]\n",
    "\n",
    "\n",
    "## Implemente aqui sua solução\n",
    "def atividades_comuns(turmas):\n",
    "    # Inicializa o conjunto de atividades comuns com as atividades da primeira turma\n",
    "    atividades_comuns = set(turmas[0])\n",
    "    \n",
    "    # Intersecciona com as atividades das demais turmas\n",
    "    for turma in turmas[1:]:\n",
    "        atividades_comuns.intersection_update(turma)\n",
    "    \n",
    "    return atividades_comuns\n",
    "\n",
    "# Exemplo de uso\n",
    "resultado = atividades_comuns(turmas)\n",
    "print(resultado)\n",
    "\n"
   ]
  },
  {
   "cell_type": "markdown",
   "id": "021e2b1e",
   "metadata": {},
   "source": [
    "### Q4. \n",
    "Considere duas listas que são duplicatas uma da outra, exceto por um elemento, exemplo:\n",
    "```\n",
    "A = [1, 4, 5, 7, 9]\n",
    "B = [4, 5, 7, 9]\n",
    "```\n",
    "\n",
    "Encontre e apresente o elemento diferente, informando também qual das listas está desfalcada. Para o exemplo acima, a saída esperada é\n",
    "```\n",
    "O elemento 1 está faltando na segunda lista\n",
    "```"
   ]
  },
  {
   "cell_type": "code",
   "execution_count": 5,
   "id": "608761a4",
   "metadata": {},
   "outputs": [
    {
     "name": "stdout",
     "output_type": "stream",
     "text": [
      "O elemento diferente é 1 e está faltando na Lista B.\n"
     ]
    }
   ],
   "source": [
    "## Implemente aqui sua solução\n",
    "def encontrar_elemento_diferente(lista1, lista2):\n",
    "    set1 = set(lista1)\n",
    "    set2 = set(lista2)\n",
    "    \n",
    "    # Encontra o elemento diferente\n",
    "    diferenca = set1.symmetric_difference(set2)\n",
    "    \n",
    "    if len(lista1) > len(lista2):\n",
    "        lista_desfalcada = \"Lista B\"\n",
    "    else:\n",
    "        lista_desfalcada = \"Lista A\"\n",
    "    \n",
    "    return diferenca.pop(), lista_desfalcada\n",
    "\n",
    "# Exemplo de uso\n",
    "A = [1, 4, 5, 7, 9]\n",
    "B = [4, 5, 7, 9]\n",
    "\n",
    "elemento_diferente, lista_desfalcada = encontrar_elemento_diferente(A, B)\n",
    "print(f\"O elemento diferente é {elemento_diferente} e está faltando na {lista_desfalcada}.\")\n"
   ]
  },
  {
   "cell_type": "markdown",
   "id": "ddf180c1",
   "metadata": {},
   "source": [
    "### Q5.\n",
    "\n",
    "Panagramas são frases que contém todas as letras do alfabeto pelo menos uma vez. Crie uma função ```checa_panagrama``` que recebe uma string e retorna ```True``` caso seja um panagrama ou ```False```caso contrário. Use seu conhecimento de sets para solucionar essa questão.\n",
    "\n",
    "Ex: \n",
    "```\n",
    "Entrada: \"The quick brown fox jumps over the lazy dog\" \n",
    "Saída: É um panagrama\n",
    "```\n",
    "\n",
    "```\n",
    "Entrada: \"Python é uma linguagem de programação\" \n",
    "Saída: Não é um panagrama\n",
    "```"
   ]
  },
  {
   "cell_type": "code",
   "execution_count": 6,
   "id": "4e8b0390",
   "metadata": {},
   "outputs": [
    {
     "name": "stdout",
     "output_type": "stream",
     "text": [
      "Entrada: \"The quick brown fox jumps over the lazy dog\"\n",
      "Saída: É um panagrama\n",
      "\n",
      "Entrada: \"Python é uma linguagem de programação\"\n",
      "Saída: Não é um panagrama\n"
     ]
    }
   ],
   "source": [
    "## Implemente aqui sua solução\n",
    "def checa_panagrama(frase):\n",
    "    # Conjunto com todas as letras do alfabeto\n",
    "    alfabeto = set('abcdefghijklmnopqrstuvwxyz')\n",
    "    \n",
    "    # Converte a frase para minúsculas e cria um conjunto com os caracteres únicos\n",
    "    caracteres_frase = set(frase.lower())\n",
    "    \n",
    "    # Verifica se todas as letras do alfabeto estão presentes na frase\n",
    "    return alfabeto.issubset(caracteres_frase)\n",
    "\n",
    "# Exemplos de uso\n",
    "frase1 = \"The quick brown fox jumps over the lazy dog\"\n",
    "frase2 = \"Python é uma linguagem de programação\"\n",
    "\n",
    "print(f\"Entrada: \\\"{frase1}\\\"\")\n",
    "print(\"Saída:\", \"É um panagrama\" if checa_panagrama(frase1) else \"Não é um panagrama\")\n",
    "\n",
    "print(f\"\\nEntrada: \\\"{frase2}\\\"\")\n",
    "print(\"Saída:\", \"É um panagrama\" if checa_panagrama(frase2) else \"Não é um panagrama\")\n"
   ]
  }
 ],
 "metadata": {
  "kernelspec": {
   "display_name": "Python 3 (ipykernel)",
   "language": "python",
   "name": "python3"
  },
  "language_info": {
   "codemirror_mode": {
    "name": "ipython",
    "version": 3
   },
   "file_extension": ".py",
   "mimetype": "text/x-python",
   "name": "python",
   "nbconvert_exporter": "python",
   "pygments_lexer": "ipython3",
   "version": "3.10.11"
  }
 },
 "nbformat": 4,
 "nbformat_minor": 5
}
