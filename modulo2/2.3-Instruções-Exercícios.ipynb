{
 "cells": [
  {
   "cell_type": "markdown",
   "metadata": {
    "id": "1pCTdOHonv5f"
   },
   "source": [
    "# Módulo 2\n",
    "\n",
    "## 2.3 Instruções e Expressões\n",
    "\n",
    "### Q1\n",
    "\n",
    "Faça um programa que armazene o valor de 20 reais de salário por hora de um trabalhador, e o número de 40 horas trabalhadas na semana. Com essas informações, calcule e imprima:\n",
    "- Salário semanal bruto\n",
    "- Valor descontado por semana INSS (10% do bruto)\n",
    "- Valor descontado por semana pelo sindicato (5% do bruto)\n",
    "- Salário semanal líquido (Bruto - Descontos)"
   ]
  },
  {
   "cell_type": "code",
   "execution_count": 1,
   "metadata": {
    "id": "hVbX0I97nj6M"
   },
   "outputs": [
    {
     "name": "stdout",
     "output_type": "stream",
     "text": [
      "Salário semanal bruto: R$ 800.0\n",
      "Desconto INSS (10%): R$ 80.0\n",
      "Desconto Sindicato (5%): R$ 40.0\n",
      "Salário semanal líquido: R$ 680.0\n"
     ]
    }
   ],
   "source": [
    "## Escreva e execute seu código aqui\n",
    "# Armazenando os valores\n",
    "salario_por_hora = 20.0\n",
    "horas_trabalhadas = 40\n",
    "\n",
    "# Calculando o salário semanal bruto\n",
    "salario_bruto = salario_por_hora * horas_trabalhadas\n",
    "\n",
    "# Calculando os descontos\n",
    "desconto_inss = salario_bruto * 0.10\n",
    "desconto_sindicato = salario_bruto * 0.05\n",
    "\n",
    "# Calculando o salário líquido\n",
    "salario_liquido = salario_bruto - (desconto_inss + desconto_sindicato)\n",
    "\n",
    "# Imprimindo os resultados\n",
    "print(\"Salário semanal bruto: R$\", salario_bruto)\n",
    "print(\"Desconto INSS (10%): R$\", desconto_inss)\n",
    "print(\"Desconto Sindicato (5%): R$\", desconto_sindicato)\n",
    "print(\"Salário semanal líquido: R$\", salario_liquido)\n"
   ]
  },
  {
   "cell_type": "markdown",
   "metadata": {
    "id": "pIxKX9J2oGZ1"
   },
   "source": [
    "### Q2\n",
    "\n",
    "Altere o programa anterior para a partir dos valores de horas trabalhadas por semana e salário por hora, calcular **em somente duas instruções**:\n",
    "- Salário semanal bruto\n",
    "- Salário semanal líquido com todos os descontos. Para a segunda instrução, realize todos os cálculos aritméticos em uma expressão composta.\n"
   ]
  },
  {
   "cell_type": "code",
   "execution_count": 2,
   "metadata": {
    "id": "pAHw9Xf9oGoi"
   },
   "outputs": [
    {
     "name": "stdout",
     "output_type": "stream",
     "text": [
      "Salário semanal bruto: R$ 800.0\n",
      "Salário semanal líquido: R$ 680.0\n"
     ]
    }
   ],
   "source": [
    "## Escreva e execute seu código aqui\n",
    "# Armazenando os valores\n",
    "salario_por_hora = 20.0\n",
    "horas_trabalhadas = 40\n",
    "\n",
    "# Calculando o salário semanal bruto\n",
    "salario_bruto = salario_por_hora * horas_trabalhadas\n",
    "\n",
    "# Calculando o salário semanal líquido com todos os descontos\n",
    "salario_liquido = salario_bruto * (1 - 0.10 - 0.05)\n",
    "\n",
    "# Imprimindo os resultados\n",
    "print(\"Salário semanal bruto: R$\", salario_bruto)\n",
    "print(\"Salário semanal líquido: R$\", salario_liquido)\n"
   ]
  },
  {
   "cell_type": "markdown",
   "metadata": {
    "id": "m8tlHRuWpBOB"
   },
   "source": [
    "### Q3\n",
    "\n",
    "Você está desenvolvendo um software de conversão de moeda e precisa calcular o valor equivalente em yuan chinês a partir de uma quantia em real. A taxa de câmbio é de 0.69 BRL (real) para 1 CNY (yuan). Escreva um programa que define em uma variável uma quantia em reais (BRL) e calcula o valor equivalente em yuan (CNY). Imprima o resultado."
   ]
  },
  {
   "cell_type": "code",
   "execution_count": 5,
   "metadata": {
    "id": "2bPw7uF6oeL9"
   },
   "outputs": [
    {
     "name": "stdout",
     "output_type": "stream",
     "text": [
      "O valor de 100.0 BRL em yuan chinês (CNY) é: 144.92753623188406\n"
     ]
    }
   ],
   "source": [
    "## Escreva e execute seu código aqui\n",
    "# Definindo a quantia em reais (BRL)\n",
    "quantia_brl = 100.0  # Exemplo de valor; você pode alterar para qualquer quantia\n",
    "\n",
    "# Definindo a taxa de câmbio: 0.69 BRL = 1 CNY\n",
    "taxa_cambio = 0.69\n",
    "\n",
    "# Calculando o valor equivalente em yuan chinês (CNY)\n",
    "valor_cny = quantia_brl / taxa_cambio\n",
    "\n",
    "# Imprimindo o resultado\n",
    "print(\"O valor de\", quantia_brl, \"BRL em yuan chinês (CNY) é:\", valor_cny)\n"
   ]
  },
  {
   "cell_type": "markdown",
   "metadata": {
    "id": "-Na3ltDCp74A"
   },
   "source": [
    "### Q4\n",
    "\n",
    "Você é um treinador de corrida e deseja calcular a velocidade média que um atleta precisa manter para completar a Maratona Internacional de São Silvestre, que tem uma distância total de 42.195 km. A fórmula para calcular a velocidade média ($v\\_media$) é dada por $v\\_media = \\frac{distancia}{tempo}$ . Escreva um programa em Python para calcular a velocidade média necessária para completar a maratona em 3 horas.\n",
    "\n",
    "**Calcule e imprima o resultado em metros/segundo**, ou seja, converta a distância de quilômetros para metros ($metro = \\frac{km}{1000}$) e a velocidade de horas para segundos $(segundo = \\frac{hora}{3600})$."
   ]
  },
  {
   "cell_type": "code",
   "execution_count": 4,
   "metadata": {
    "id": "Bn6l8kcSrE4L"
   },
   "outputs": [
    {
     "name": "stdout",
     "output_type": "stream",
     "text": [
      "A velocidade média necessária para completar a maratona em 3 horas é: 3.9069444444444446 m/s\n"
     ]
    }
   ],
   "source": [
    "## Escreva e execute seu código aqui\n",
    "# Definindo a distância da maratona em quilômetros\n",
    "distancia_km = 42.195\n",
    "\n",
    "# Convertendo a distância para metros\n",
    "distancia_m = distancia_km * 1000\n",
    "\n",
    "# Definindo o tempo em horas\n",
    "tempo_horas = 3\n",
    "\n",
    "# Convertendo o tempo para segundos\n",
    "tempo_segundos = tempo_horas * 3600\n",
    "\n",
    "# Calculando a velocidade média em metros por segundo\n",
    "v_media = distancia_m / tempo_segundos\n",
    "\n",
    "# Imprimindo o resultado\n",
    "print(\"A velocidade média necessária para completar a maratona em 3 horas é:\", v_media, \"m/s\")\n"
   ]
  }
 ],
 "metadata": {
  "colab": {
   "provenance": []
  },
  "kernelspec": {
   "display_name": "Python 3 (ipykernel)",
   "language": "python",
   "name": "python3"
  },
  "language_info": {
   "codemirror_mode": {
    "name": "ipython",
    "version": 3
   },
   "file_extension": ".py",
   "mimetype": "text/x-python",
   "name": "python",
   "nbconvert_exporter": "python",
   "pygments_lexer": "ipython3",
   "version": "3.10.11"
  }
 },
 "nbformat": 4,
 "nbformat_minor": 4
}
