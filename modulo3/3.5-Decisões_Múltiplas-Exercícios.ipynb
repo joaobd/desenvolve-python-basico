{
 "cells": [
  {
   "cell_type": "markdown",
   "id": "559687a1",
   "metadata": {},
   "source": [
    "# Módulo 3 - Condicionais\n",
    "\n",
    "## 3.5 - Decisões Múltiplas"
   ]
  },
  {
   "cell_type": "markdown",
   "id": "42f823b3",
   "metadata": {},
   "source": [
    "### Q1.\n",
    "\n",
    "Vamos fazer uma calculadora! Escreva um programa que solicita 3 entradas: o primeiro operando (float), o operador (caracter) e o segundo operando (float). Seu programa deve imprimir o resultado da operação solicitada, entre soma (+), subtração (-), divisão (/), multiplicação (\\*) ou potência (\\*\\*). Seu programa também deve imprimir uma mensagem de erro se a operação solicitada não estiver dentre as opções disponíveis.\n",
    "\n",
    "Seguem alguns exemplos de interação com seu código no terminal. \n",
    "\n",
    "\n",
    "```\n",
    "Digite o primeiro operando: 5.2\n",
    "Digite o operador (+, -, /, *, **): *\n",
    "Digite o segundo operando` 3\n",
    "Resultado: 5.2 * 3.0 = 15.6\n",
    "```\n",
    "\n",
    "```\n",
    "Digite o primeiro operando: 8\n",
    "Digite o operador (+, -, /, *, **): **\n",
    "Digite o segundo operando: 2\n",
    "Resultado: 8.0 * 2.0 = 64.0\n",
    "```\n",
    "\n",
    "```\n",
    "Digite o primeiro operando: 7\n",
    "Digite o operador (+, -, /, *, **): %\n",
    "Digite o segundo operando: 3.4\n",
    "Erro! Operação inválida. \n",
    "```\n",
    "\n",
    "```\n",
    "Digite o primeiro operando: 10\n",
    "Digite o operador (+, -, /, *, **): /\n",
    "Digite o segundo operando: 2.5\n",
    "Resultado: 10.0 / 2.5 = 4.0\n",
    "```\n",
    "\n"
   ]
  },
  {
   "cell_type": "code",
   "execution_count": 1,
   "id": "c5b8cd4d",
   "metadata": {},
   "outputs": [
    {
     "name": "stdin",
     "output_type": "stream",
     "text": [
      "Digite o primeiro operando (número):  6\n",
      "Digite o operador (+, -, *, /, **):  **\n",
      "Digite o segundo operando (número):  2\n"
     ]
    },
    {
     "name": "stdout",
     "output_type": "stream",
     "text": [
      "O resultado da operação 6.0 ** 2.0 é: 36.0\n"
     ]
    }
   ],
   "source": [
    "## Escreva e execute seu código aqui\n",
    "# Solicitando o primeiro operando\n",
    "operando1 = float(input(\"Digite o primeiro operando (número): \"))\n",
    "\n",
    "# Solicitando o operador\n",
    "operador = input(\"Digite o operador (+, -, *, /, **): \")\n",
    "\n",
    "# Solicitando o segundo operando\n",
    "operando2 = float(input(\"Digite o segundo operando (número): \"))\n",
    "\n",
    "# Inicializando a variável para o resultado\n",
    "resultado = None\n",
    "\n",
    "# Verificando qual operação realizar\n",
    "if operador == '+':\n",
    "    resultado = operando1 + operando2\n",
    "elif operador == '-':\n",
    "    resultado = operando1 - operando2\n",
    "elif operador == '*':\n",
    "    resultado = operando1 * operando2\n",
    "elif operador == '/':\n",
    "    # Verificando se o divisor é zero\n",
    "    if operando2 != 0:\n",
    "        resultado = operando1 / operando2\n",
    "    else:\n",
    "        print(\"Erro: Divisão por zero.\")\n",
    "        resultado = None\n",
    "elif operador == '**':\n",
    "    resultado = operando1 ** operando2\n",
    "else:\n",
    "    print(\"Erro: Operador inválido.\")\n",
    "\n",
    "# Imprimindo o resultado se houver\n",
    "if resultado is not None:\n",
    "    print(f\"O resultado da operação {operando1} {operador} {operando2} é: {resultado}\")\n"
   ]
  },
  {
   "cell_type": "markdown",
   "id": "d135df39",
   "metadata": {},
   "source": [
    "### Q2.\n",
    "\n",
    "Escreva um programa que leia os comprimentos dos 3 lados de um triângulo e diga se o triângulo é equilátero, isóceles ou escaleno. Regras:\n",
    "- Isóceles: Quaisquer dois lados com o mesmo comprimento\n",
    "- Equilátero: Os três lados tem o mesmo comprimento\n",
    "- Escaleno: Três lados de comprimento diferente \n",
    "\n",
    "Note que a ordem das condições importa! Seguem alguns exemplos de interação com seu código no terminal. \n",
    "\n",
    "```\n",
    "Digite o comprimento do lado 1: 4\n",
    "Digite o comprimento do lado 2: 4\n",
    "Digite o comprimento do lado 3: 6\n",
    "Triângulo: Isóceles\n",
    "```\n",
    "\n",
    "```\n",
    "Digite o comprimento do lado 1: 5\n",
    "Digite o comprimento do lado 2: 5\n",
    "Digite o comprimento do lado 3: 5\n",
    "Triângulo: Equilátero\n",
    "```\n",
    "\n",
    "```\n",
    "Digite o comprimento do lado 1: 7\n",
    "Digite o comprimento do lado 2: 4\n",
    "Digite o comprimento do lado 3: 9\n",
    "Triângulo: Escaleno\n",
    "```\n",
    "\n"
   ]
  },
  {
   "cell_type": "code",
   "execution_count": 2,
   "id": "cfcf9a80",
   "metadata": {},
   "outputs": [
    {
     "name": "stdin",
     "output_type": "stream",
     "text": [
      "Digite o comprimento do primeiro lado:  4\n",
      "Digite o comprimento do segundo lado:  4\n",
      "Digite o comprimento do terceiro lado:  8\n"
     ]
    },
    {
     "name": "stdout",
     "output_type": "stream",
     "text": [
      "O triângulo é Isósceles.\n"
     ]
    }
   ],
   "source": [
    "## Escreva e execute seu código aqui\n",
    "# Solicitando os comprimentos dos 3 lados do triângulo\n",
    "lado1 = float(input(\"Digite o comprimento do primeiro lado: \"))\n",
    "lado2 = float(input(\"Digite o comprimento do segundo lado: \"))\n",
    "lado3 = float(input(\"Digite o comprimento do terceiro lado: \"))\n",
    "\n",
    "# Verificando o tipo de triângulo\n",
    "if lado1 == lado2 == lado3:\n",
    "    tipo_triangulo = \"Equilátero\"\n",
    "elif lado1 == lado2 or lado1 == lado3 or lado2 == lado3:\n",
    "    tipo_triangulo = \"Isósceles\"\n",
    "else:\n",
    "    tipo_triangulo = \"Escaleno\"\n",
    "\n",
    "# Imprimindo o resultado\n",
    "print(f\"O triângulo é {tipo_triangulo}.\")\n"
   ]
  },
  {
   "cell_type": "markdown",
   "id": "ed3405fb",
   "metadata": {},
   "source": [
    "### Q3.\n",
    "\n",
    "Você está desenvolvendo um sistema de avaliação de desempenho para um jogo. Escreva um programa em Python que avalia a pontuação do jogador em uma missão e atribui uma classificação com base nas seguintes condições:\n",
    "\n",
    "- Se a pontuação for menor que 70, atribua a classificação \"Insatisfatório\".\n",
    "- Se a pontuação for maior ou igual a 70, atribua a classificação \"Regular\".\n",
    "- Se a pontuação for maior ou igual a 80, atribua a classificação \"Bom\".\n",
    "- Se a pontuação for maior ou igual a 90, atribua a classificação \"Excelente\".\n",
    "\n",
    "Escreva um programa que solicita ao usuário a pontuação e imprime a classificação correspondente."
   ]
  },
  {
   "cell_type": "code",
   "execution_count": 3,
   "id": "a7a842ae",
   "metadata": {},
   "outputs": [
    {
     "name": "stdin",
     "output_type": "stream",
     "text": [
      "Digite a pontuação do jogador:  65\n"
     ]
    },
    {
     "name": "stdout",
     "output_type": "stream",
     "text": [
      "A classificação do jogador é: Insatisfatório\n"
     ]
    }
   ],
   "source": [
    "## Escreva e execute seu código aqui\n",
    "# Solicitando a pontuação do jogador\n",
    "pontuacao = float(input(\"Digite a pontuação do jogador: \"))\n",
    "\n",
    "# Inicializando a variável de classificação\n",
    "classificacao = \"\"\n",
    "\n",
    "# Avaliando a pontuação e atribuindo a classificação\n",
    "if pontuacao < 70:\n",
    "    classificacao = \"Insatisfatório\"\n",
    "elif pontuacao >= 90:\n",
    "    classificacao = \"Excelente\"\n",
    "elif pontuacao >= 80:\n",
    "    classificacao = \"Bom\"\n",
    "elif pontuacao >= 70:\n",
    "    classificacao = \"Regular\"\n",
    "\n",
    "# Imprimindo a classificação correspondente\n",
    "print(f\"A classificação do jogador é: {classificacao}\")\n"
   ]
  },
  {
   "cell_type": "markdown",
   "id": "6cafaa50",
   "metadata": {},
   "source": [
    "### Q4.\n",
    "\n",
    "Você está implementando um sistema de desconto em uma loja online. Escreva um programa em Python que calcula o desconto com base no valor total da compra e atribui diferentes níveis de desconto de acordo com as seguintes condições:\n",
    "\n",
    "- Se o valor total da compra for menor que R\\$ 50, não há desconto.\n",
    "- Se o valor total da compra for maior ou igual a R\\$ 50, atribua um desconto de 10%.\n",
    "- Se o valor total da compra for maior ou igual a R\\$ 100, atribua um desconto de 20%.\n",
    "\n",
    "\n",
    "Seguem alguns exemplos de interação com seu código no terminal. Preste atenção na formatação esperada para as saídas.\n",
    "\n",
    "```\n",
    "Digite o valor total da compra: 120\n",
    "Desconto aplicado: 20.0%\n",
    "Valor final com desconto: R$96.00\n",
    "```\n",
    "\n",
    "```\n",
    "Digite o valor total da compra: 65\n",
    "Desconto aplicado: 10.0%\n",
    "Valor final com desconto: R$58.50\n",
    "```\n",
    "\n",
    "```\n",
    "Digite o valor total da compra: 40\n",
    "Desconto aplicado: 0.0%\n",
    "Valor final com desconto: R$40.00\n",
    "```\n",
    "\n",
    "\n"
   ]
  },
  {
   "cell_type": "code",
   "execution_count": 4,
   "id": "3b1b1929",
   "metadata": {},
   "outputs": [
    {
     "name": "stdin",
     "output_type": "stream",
     "text": [
      "Digite o valor total da compra:  40\n"
     ]
    },
    {
     "name": "stdout",
     "output_type": "stream",
     "text": [
      "Desconto aplicado: 0.0%\n",
      "Valor final com desconto: R$40.00\n"
     ]
    }
   ],
   "source": [
    "## Escreva e execute seu código aqui\n",
    "# Solicitando o valor total da compra\n",
    "valor_compra = float(input(\"Digite o valor total da compra: \"))\n",
    "\n",
    "# Inicializando as variáveis de desconto e valor final\n",
    "desconto = 0\n",
    "valor_final = valor_compra\n",
    "\n",
    "# Avaliando o valor da compra para determinar o desconto\n",
    "if valor_compra >= 100:\n",
    "    desconto = 20  # 20% de desconto\n",
    "elif valor_compra >= 50:\n",
    "    desconto = 10  # 10% de desconto\n",
    "\n",
    "# Calculando o valor final com desconto\n",
    "valor_final -= valor_final * (desconto / 100)\n",
    "\n",
    "# Imprimindo o resultado\n",
    "print(f\"Desconto aplicado: {desconto:.1f}%\")\n",
    "print(f\"Valor final com desconto: R${valor_final:.2f}\")\n"
   ]
  },
  {
   "cell_type": "markdown",
   "id": "dc5db6d7",
   "metadata": {},
   "source": [
    "### Q5.\n",
    "\n",
    "Você está projetando um sistema de autenticação baseado na análise da íris (parte colorida do olho). Ao acionado, o sistema coleta e retorna 3 valores inteiros referentes a atributos da íris visível. Mas o sistema não é perfeito, tendo uma margem de erro do sensor de +/- $5$. \n",
    "\n",
    "O código abaixo tem os atributos dos 4 usuários cadastrados no sistema. Você deve completar om código, pedindo ao usuário para inserir uma nova leitura de padrão de íris. O programa deve comparar o padrão inserido com os padrões cadastrados no banco de dados. Se o padrão estiver dentro da tolerância estabelecida, o usuário é autenticado com sucesso. Caso contrário, a autenticação falha.\n",
    "\n",
    "**Dica:** A função do python ```abs()``` retorna o valor absoluto de um elemento. Ex: \n",
    "```\n",
    ">>> print(abs(987-982))\n",
    "5\n",
    ">>> print(abs(987-992))\n",
    "5\n",
    "```\n",
    "\n",
    "Seguem alguns exemplos de interação com seu código no terminal.\n",
    "\n",
    "```\n",
    "Insira o padrão de íris para autenticação.\n",
    "Atributo 1: 111\n",
    "Atributo 2: 222\n",
    "Atributo 3: 333\n",
    "Autenticação bem-sucedida! \n",
    "Usuário: 3\n",
    "```\n",
    "\n",
    "```\n",
    "Insira o padrão de íris para autenticação.\n",
    "Atributo 1: 111\n",
    "Atributo 2: 200\n",
    "Atributo 3: 333\n",
    "Autenticação falhou! \n",
    "```\n",
    "\n",
    "```\n",
    "Insira o padrão de íris para autenticação.\n",
    "Atributo 1: 982\n",
    "Atributo 2: 653\n",
    "Atributo 3: 324\n",
    "Autenticação bem-sucedida! \n",
    "Usuário: 2\n",
    "```"
   ]
  },
  {
   "cell_type": "code",
   "execution_count": 5,
   "id": "b90304eb",
   "metadata": {},
   "outputs": [
    {
     "name": "stdout",
     "output_type": "stream",
     "text": [
      "Insira a nova leitura do padrão de íris:\n"
     ]
    },
    {
     "name": "stdin",
     "output_type": "stream",
     "text": [
      "Atributo 1:  126\n",
      "Atributo 2:  455\n",
      "Atributo 3:  786\n"
     ]
    },
    {
     "name": "stdout",
     "output_type": "stream",
     "text": [
      "Autenticação bem-sucedida! Bem-vindo, Usuario1.\n"
     ]
    }
   ],
   "source": [
    "## Não altere os atributos definidos a seguir\n",
    "iris1_a1, iris1_a2, iris1_a3 = 123, 456, 789\n",
    "iris2_a1, iris2_a2, iris2_a3 = 987, 654, 321\n",
    "iris3_a1, iris3_a2, iris3_a3 = 111, 222, 333\n",
    "iris4_a1, iris4_a2, iris4_a3 = 444, 555, 666\n",
    "\n",
    "## Escreva e execute seu código aqui\n",
    "# Padrões de íris dos usuários cadastrados (atributos como tuplas)\n",
    "usuarios = {\n",
    "    \"Usuario1\": (123, 456, 789),\n",
    "    \"Usuario2\": (987, 654, 321),\n",
    "    \"Usuario3\": (111, 222, 333),\n",
    "    \"Usuario4\": (444, 555, 666)\n",
    "}\n",
    "\n",
    "# Função para verificar a autenticidade da íris\n",
    "def autenticar_iris(leitura):\n",
    "    for usuario, atributos in usuarios.items():\n",
    "        # Verificando se a leitura está dentro da margem de erro\n",
    "        if (atributos[0] - 5 <= leitura[0] <= atributos[0] + 5 and\n",
    "            atributos[1] - 5 <= leitura[1] <= atributos[1] + 5 and\n",
    "            atributos[2] - 5 <= leitura[2] <= atributos[2] + 5):\n",
    "            return usuario  # Retorna o usuário autenticado\n",
    "    return None  # Retorna None se não encontrar correspondência\n",
    "\n",
    "# Solicitando a nova leitura do padrão de íris\n",
    "print(\"Insira a nova leitura do padrão de íris:\")\n",
    "leitura_usuario = (\n",
    "    int(input(\"Atributo 1: \")),\n",
    "    int(input(\"Atributo 2: \")),\n",
    "    int(input(\"Atributo 3: \"))\n",
    ")\n",
    "\n",
    "# Autenticando o usuário\n",
    "usuario_autenticado = autenticar_iris(leitura_usuario)\n",
    "\n",
    "# Verificando o resultado da autenticação\n",
    "if usuario_autenticado:\n",
    "    print(f\"Autenticação bem-sucedida! Bem-vindo, {usuario_autenticado}.\")\n",
    "else:\n",
    "    print(\"Autenticação falhou. Padrão de íris não reconhecido.\")\n"
   ]
  }
 ],
 "metadata": {
  "kernelspec": {
   "display_name": "Python 3 (ipykernel)",
   "language": "python",
   "name": "python3"
  },
  "language_info": {
   "codemirror_mode": {
    "name": "ipython",
    "version": 3
   },
   "file_extension": ".py",
   "mimetype": "text/x-python",
   "name": "python",
   "nbconvert_exporter": "python",
   "pygments_lexer": "ipython3",
   "version": "3.10.11"
  }
 },
 "nbformat": 4,
 "nbformat_minor": 5
}
